{
 "cells": [
  {
   "cell_type": "code",
   "execution_count": 1,
   "metadata": {},
   "outputs": [],
   "source": [
    "import pandas as pd"
   ]
  },
  {
   "cell_type": "code",
   "execution_count": null,
   "metadata": {},
   "outputs": [
    {
     "name": "stdout",
     "output_type": "stream",
     "text": [
      "              s1     s2            s3\n",
      "0  hello, world!  hello  hello, world\n",
      "1      how are u   fine         great\n",
      "2             s1     s2            s3\n",
      "\n",
      "{'s1': 13, 's2': 5, 's3': 12}\n",
      "           s1\n",
      "hello, world!\n",
      "    how are u\n",
      "           s1\n",
      "   s2\n",
      "hello\n",
      " fine\n",
      "   s2\n",
      "          s3\n",
      "hello, world\n",
      "       great\n",
      "          s3\n"
     ]
    }
   ],
   "source": [
    "df = pd.DataFrame([['hello, world!', 'hello', 'hello, world'], ['how are u', 'fine', 'great']], columns=['s1', 's2', 's3'])\n",
    "\n",
    "df.loc[len(df)] = df.columns\n",
    "print(df)\n",
    "print()\n",
    "df_info = df.copy()\n",
    "columns_size = {}\n",
    "for column in df_info.columns:\n",
    "    df_info[column] = df_info[column].apply(len)\n",
    "    columns_size[column] = df_info[column].max()\n",
    "print(columns_size)\n",
    "\n",
    "for i in df.columns:\n",
    "    formatter = '{: >' + str(columns_size[i]) + '}'\n",
    "    print(formatter.format(i))\n",
    "    for item in df[i]:\n",
    "        print(formatter.format(item))\n"
   ]
  },
  {
   "cell_type": "code",
   "execution_count": 3,
   "metadata": {},
   "outputs": [
    {
     "data": {
      "text/plain": [
       "0    2\n",
       "1    4\n",
       "2    6\n",
       "dtype: int64"
      ]
     },
     "execution_count": 3,
     "metadata": {},
     "output_type": "execute_result"
    }
   ],
   "source": [
    "df1 = pd.Series([1, 2, 3])\n",
    "df2 = pd.Series([1, 2, 3])\n",
    "\n",
    "df1 + df2"
   ]
  },
  {
   "cell_type": "code",
   "execution_count": 6,
   "metadata": {},
   "outputs": [
    {
     "name": "stdout",
     "output_type": "stream",
     "text": [
      "func1\n"
     ]
    },
    {
     "data": {
      "text/plain": [
       "True"
      ]
     },
     "execution_count": 6,
     "metadata": {},
     "output_type": "execute_result"
    }
   ],
   "source": [
    "def func1():\n",
    "    print('func1')\n",
    "    return True\n",
    "\n",
    "def func2():\n",
    "    print('func2')\n",
    "    return False\n",
    "\n",
    "func1() or func2()"
   ]
  }
 ],
 "metadata": {
  "kernelspec": {
   "display_name": ".venv",
   "language": "python",
   "name": "python3"
  },
  "language_info": {
   "codemirror_mode": {
    "name": "ipython",
    "version": 3
   },
   "file_extension": ".py",
   "mimetype": "text/x-python",
   "name": "python",
   "nbconvert_exporter": "python",
   "pygments_lexer": "ipython3",
   "version": "3.10.1"
  },
  "orig_nbformat": 4,
  "vscode": {
   "interpreter": {
    "hash": "048be790c9866b473caa7b57fde2ce3dcc052b506b9277049736f663801926e5"
   }
  }
 },
 "nbformat": 4,
 "nbformat_minor": 2
}
