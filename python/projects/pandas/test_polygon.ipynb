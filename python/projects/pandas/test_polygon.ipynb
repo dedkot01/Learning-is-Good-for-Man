{
 "cells": [
  {
   "cell_type": "code",
   "execution_count": 1,
   "metadata": {},
   "outputs": [],
   "source": [
    "import pandas as pd"
   ]
  },
  {
   "cell_type": "code",
   "execution_count": 32,
   "metadata": {},
   "outputs": [
    {
     "name": "stdout",
     "output_type": "stream",
     "text": [
      "              s1     s2            s3\n",
      "0  hello, world!  hello  hello, world\n",
      "1      how are u   fine         great\n",
      "2             s1     s2            s3\n",
      "\n",
      "{'s1': 13, 's2': 5, 's3': 12}\n",
      "           s1\n",
      "hello, world!\n",
      "    how are u\n",
      "           s1\n",
      "   s2\n",
      "hello\n",
      " fine\n",
      "   s2\n",
      "          s3\n",
      "hello, world\n",
      "       great\n",
      "          s3\n"
     ]
    }
   ],
   "source": [
    "df = pd.DataFrame([['hello, world!', 'hello', 'hello, world'], ['how are u', 'fine', 'great']], columns=['s1', 's2', 's3'])\n",
    "\n",
    "df.loc[len(df)] = df.columns\n",
    "print(df)\n",
    "print()\n",
    "df_info = df.copy()\n",
    "columns_size = {}\n",
    "for column in df_info.columns:\n",
    "    df_info[column] = df_info[column].apply(len)\n",
    "    columns_size[column] = df_info[column].max()\n",
    "print(columns_size)\n",
    "\n",
    "for i in df.columns:\n",
    "    formatter = '{: >' + str(columns_size[i]) + '}'\n",
    "    print(formatter.format(i))\n",
    "    for item in df[i]:\n",
    "        print(formatter.format(item))\n"
   ]
  }
 ],
 "metadata": {
  "kernelspec": {
   "display_name": "Python 3.10.1 ('.venv': venv)",
   "language": "python",
   "name": "python3"
  },
  "language_info": {
   "codemirror_mode": {
    "name": "ipython",
    "version": 3
   },
   "file_extension": ".py",
   "mimetype": "text/x-python",
   "name": "python",
   "nbconvert_exporter": "python",
   "pygments_lexer": "ipython3",
   "version": "3.10.1"
  },
  "orig_nbformat": 4,
  "vscode": {
   "interpreter": {
    "hash": "527127db652e454314cfaa6b10ee6f1bcd9b0e23d2f13b1a60b8a520070a0b96"
   }
  }
 },
 "nbformat": 4,
 "nbformat_minor": 2
}
