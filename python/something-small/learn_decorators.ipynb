{
 "cells": [
  {
   "attachments": {},
   "cell_type": "markdown",
   "metadata": {},
   "source": [
    "### Простой декоратор"
   ]
  },
  {
   "cell_type": "code",
   "execution_count": 1,
   "metadata": {},
   "outputs": [],
   "source": [
    "def print_hi(func):\n",
    "    def _wrapper(*args, **kwargs):\n",
    "        print('hi')\n",
    "        func(*args, **kwargs)\n",
    "    \n",
    "    return _wrapper"
   ]
  },
  {
   "cell_type": "code",
   "execution_count": 2,
   "metadata": {},
   "outputs": [
    {
     "name": "stdout",
     "output_type": "stream",
     "text": [
      "hi\n",
      "func1\n"
     ]
    }
   ],
   "source": [
    "@print_hi\n",
    "def func1():\n",
    "    print('func1')\n",
    "\n",
    "func1()"
   ]
  },
  {
   "cell_type": "code",
   "execution_count": 4,
   "metadata": {},
   "outputs": [
    {
     "name": "stdout",
     "output_type": "stream",
     "text": [
      "hi\n",
      "Var \"a\" is 3\n"
     ]
    }
   ],
   "source": [
    "@print_hi\n",
    "def func2(a):\n",
    "    print(f'Var \"a\" is {a}')\n",
    "\n",
    "func2(a=3)"
   ]
  },
  {
   "attachments": {},
   "cell_type": "markdown",
   "metadata": {},
   "source": [
    "### Декоратор, повторно вызывающий метод при возникновении исключения"
   ]
  },
  {
   "cell_type": "code",
   "execution_count": 5,
   "metadata": {},
   "outputs": [],
   "source": [
    "import time\n",
    "\n",
    "\n",
    "def retry(func):\n",
    "    def _wrapper(*args, **kwargs):\n",
    "        try:\n",
    "            func(*args, **kwargs)\n",
    "        except:\n",
    "            time.sleep(1)\n",
    "            func(*args, **kwargs)\n",
    "\n",
    "    return _wrapper"
   ]
  },
  {
   "cell_type": "code",
   "execution_count": null,
   "metadata": {},
   "outputs": [],
   "source": [
    "import random\n",
    "\n",
    "@retry\n",
    "def func3():\n",
    "    print('Reload...')\n",
    "    if random.randint(0, 1) == 1:\n",
    "        print('BOOM')\n",
    "        raise Exception(\"BOOM\")\n",
    "    else:\n",
    "        print('Click')\n",
    "\n",
    "func1()"
   ]
  },
  {
   "attachments": {},
   "cell_type": "markdown",
   "metadata": {},
   "source": [
    "### Декоратор с аргументов"
   ]
  },
  {
   "cell_type": "code",
   "execution_count": 18,
   "metadata": {},
   "outputs": [],
   "source": [
    "def retry_max(retries):\n",
    "    def retry_decorator(func):\n",
    "        def _wrapper(*args, **kwargs):\n",
    "            for i in range(retries):\n",
    "                try:\n",
    "                    func(*args, **kwargs)\n",
    "                    break\n",
    "                except:\n",
    "                    time.sleep(1)\n",
    "                    print(f'Failed try {i}')\n",
    "        \n",
    "        return _wrapper\n",
    "    return retry_decorator"
   ]
  },
  {
   "cell_type": "code",
   "execution_count": 60,
   "metadata": {},
   "outputs": [
    {
     "name": "stdout",
     "output_type": "stream",
     "text": [
      "Reload...\n",
      "BOOM\n",
      "Failed try 0\n",
      "Reload...\n",
      "BOOM\n",
      "Failed try 1\n",
      "Reload...\n",
      "Click\n"
     ]
    }
   ],
   "source": [
    "@retry_max(3)\n",
    "def func4():\n",
    "    print('Reload...')\n",
    "    if random.randint(0, 3) == 0:\n",
    "        print('Click')\n",
    "    else:\n",
    "        print('BOOM')\n",
    "        raise Exception(\"BOOM\")\n",
    "\n",
    "func4()"
   ]
  }
 ],
 "metadata": {
  "kernelspec": {
   "display_name": ".venv",
   "language": "python",
   "name": "python3"
  },
  "language_info": {
   "codemirror_mode": {
    "name": "ipython",
    "version": 3
   },
   "file_extension": ".py",
   "mimetype": "text/x-python",
   "name": "python",
   "nbconvert_exporter": "python",
   "pygments_lexer": "ipython3",
   "version": "3.10.1"
  },
  "orig_nbformat": 4
 },
 "nbformat": 4,
 "nbformat_minor": 2
}
