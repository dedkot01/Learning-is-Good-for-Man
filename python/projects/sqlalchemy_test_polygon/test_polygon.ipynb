{
 "cells": [
  {
   "cell_type": "code",
   "execution_count": 2,
   "metadata": {},
   "outputs": [
    {
     "data": {
      "text/plain": [
       "'1.3.18'"
      ]
     },
     "execution_count": 2,
     "metadata": {},
     "output_type": "execute_result"
    }
   ],
   "source": [
    "import sqlalchemy\n",
    "\n",
    "sqlalchemy.__version__"
   ]
  },
  {
   "cell_type": "code",
   "execution_count": 3,
   "metadata": {},
   "outputs": [],
   "source": [
    "from sqlalchemy import Table, Column, Integer, String, MetaData\n",
    "\n",
    "metadata = MetaData()\n",
    "\n",
    "users = Table(\n",
    "    'users', metadata,\n",
    "    Column('id', Integer, primary_key=True),\n",
    "    Column('name', String),\n",
    "    Column('fullname', String),\n",
    ")\n",
    "\n",
    "phones = Table(\n",
    "    'phones', metadata,\n",
    "    Column('id', Integer, primary_key=True),\n",
    "    Column('user_id', Integer),\n",
    "    Column('number', String),\n",
    ")"
   ]
  },
  {
   "cell_type": "code",
   "execution_count": 4,
   "metadata": {},
   "outputs": [
    {
     "name": "stdout",
     "output_type": "stream",
     "text": [
      "SELECT users.name \n",
      "FROM users\n"
     ]
    }
   ],
   "source": [
    "from sqlalchemy import select\n",
    "\n",
    "print(select([users.c.name]))"
   ]
  },
  {
   "cell_type": "code",
   "execution_count": 5,
   "metadata": {},
   "outputs": [
    {
     "name": "stdout",
     "output_type": "stream",
     "text": [
      "SELECT users.id \n",
      "FROM users \n",
      "WHERE users.name = :name_1\n"
     ]
    }
   ],
   "source": [
    "u_query = select([users.c.id]).where(users.c.name == 'Dima')\n",
    "u_cte = select([users.c.id]).where(users.c.name == 'Dima').cte(name='eva00')\n",
    "print(u_query)"
   ]
  },
  {
   "cell_type": "code",
   "execution_count": 6,
   "metadata": {},
   "outputs": [
    {
     "name": "stdout",
     "output_type": "stream",
     "text": [
      "WITH eva00 AS \n",
      "(SELECT users.id AS id \n",
      "FROM users \n",
      "WHERE users.name = :name_1)\n",
      " SELECT phones.number + eva00.id AS eva11 \n",
      "FROM phones, eva00 \n",
      "WHERE phones.user_id = eva00.id\n"
     ]
    }
   ],
   "source": [
    "q2 = select([(phones.c.number + u_cte.c.id).label('eva11')]).where(phones.c.user_id == u_cte.c.id)\n",
    "\n",
    "print(q2)"
   ]
  },
  {
   "cell_type": "code",
   "execution_count": 7,
   "metadata": {},
   "outputs": [
    {
     "data": {
      "text/plain": [
       "False"
      ]
     },
     "execution_count": 7,
     "metadata": {},
     "output_type": "execute_result"
    }
   ],
   "source": [
    "u_cte_1 = select([users.c.id]).where(users.c.name == 'Dima').cte(name='eva00')\n",
    "\n",
    "u_cte == u_cte_1"
   ]
  },
  {
   "cell_type": "code",
   "execution_count": 8,
   "metadata": {},
   "outputs": [
    {
     "name": "stdout",
     "output_type": "stream",
     "text": [
      "WITH eva00 AS \n",
      "(SELECT users.id AS id \n",
      "FROM users \n",
      "WHERE users.name = :name_1)\n",
      " SELECT phones.number + eva00.id AS eva11 \n",
      "FROM phones, eva00 \n",
      "WHERE phones.user_id = eva00.id\n"
     ]
    }
   ],
   "source": [
    "q3 = select([(phones.c.number + u_cte_1.c.id).label('eva11')]).where(phones.c.user_id == u_cte_1.c.id)\n",
    "print(q3)"
   ]
  },
  {
   "cell_type": "code",
   "execution_count": 9,
   "metadata": {},
   "outputs": [
    {
     "name": "stdout",
     "output_type": "stream",
     "text": [
      "WITH eva00 AS \n",
      "(SELECT :param_1 AS col_1)\n",
      " SELECT users.id + eva00.col_1 AS anon_1 \n",
      "FROM users, eva00\n"
     ]
    }
   ],
   "source": [
    "from sqlalchemy import literal\n",
    "\n",
    "u_cte_1 = select([literal(1).label('col_1')]).cte(name='eva00')\n",
    "\n",
    "q = select([users.c.id + u_cte_1.c.col_1])\n",
    "\n",
    "print(q)"
   ]
  },
  {
   "cell_type": "code",
   "execution_count": 10,
   "metadata": {},
   "outputs": [
    {
     "ename": "CompileError",
     "evalue": "Multiple, unrelated CTEs found with the same name: 'eva00'",
     "output_type": "error",
     "traceback": [
      "\u001b[0;31m---------------------------------------------------------------------------\u001b[0m",
      "\u001b[0;31mCompileError\u001b[0m                              Traceback (most recent call last)",
      "Cell \u001b[0;32mIn[10], line 5\u001b[0m\n\u001b[1;32m      1\u001b[0m u_cte_2 \u001b[39m=\u001b[39m select([literal(\u001b[39m1\u001b[39m)\u001b[39m.\u001b[39mlabel(\u001b[39m'\u001b[39m\u001b[39mcol_1\u001b[39m\u001b[39m'\u001b[39m)])\u001b[39m.\u001b[39mcte(name\u001b[39m=\u001b[39m\u001b[39m'\u001b[39m\u001b[39meva00\u001b[39m\u001b[39m'\u001b[39m)\n\u001b[1;32m      3\u001b[0m q1 \u001b[39m=\u001b[39m select([users\u001b[39m.\u001b[39mc\u001b[39m.\u001b[39mid \u001b[39m+\u001b[39m u_cte_1\u001b[39m.\u001b[39mc\u001b[39m.\u001b[39mcol_1])\u001b[39m.\u001b[39mwhere(users\u001b[39m.\u001b[39mc\u001b[39m.\u001b[39mid \u001b[39m==\u001b[39m u_cte_2\u001b[39m.\u001b[39mc\u001b[39m.\u001b[39mcol_1)\n\u001b[0;32m----> 5\u001b[0m \u001b[39mprint\u001b[39;49m(q1)\n",
      "File \u001b[0;32m~/projects/Learning-is-Good-for-Man/python/projects/sqlalchemy_test_polygon/.venv/lib/python3.8/site-packages/sqlalchemy/sql/elements.py:486\u001b[0m, in \u001b[0;36mClauseElement.__str__\u001b[0;34m(self)\u001b[0m\n\u001b[1;32m    484\u001b[0m \u001b[39mdef\u001b[39;00m \u001b[39m__str__\u001b[39m(\u001b[39mself\u001b[39m):\n\u001b[1;32m    485\u001b[0m     \u001b[39mif\u001b[39;00m util\u001b[39m.\u001b[39mpy3k:\n\u001b[0;32m--> 486\u001b[0m         \u001b[39mreturn\u001b[39;00m \u001b[39mstr\u001b[39m(\u001b[39mself\u001b[39;49m\u001b[39m.\u001b[39;49mcompile())\n\u001b[1;32m    487\u001b[0m     \u001b[39melse\u001b[39;00m:\n\u001b[1;32m    488\u001b[0m         \u001b[39mreturn\u001b[39;00m unicode(\u001b[39mself\u001b[39m\u001b[39m.\u001b[39mcompile())\u001b[39m.\u001b[39mencode(  \u001b[39m# noqa\u001b[39;00m\n\u001b[1;32m    489\u001b[0m             \u001b[39m\"\u001b[39m\u001b[39mascii\u001b[39m\u001b[39m\"\u001b[39m, \u001b[39m\"\u001b[39m\u001b[39mbackslashreplace\u001b[39m\u001b[39m\"\u001b[39m\n\u001b[1;32m    490\u001b[0m         )\n",
      "File \u001b[0;32m<string>:1\u001b[0m, in \u001b[0;36m<lambda>\u001b[0;34m(self, bind, dialect, **kw)\u001b[0m\n",
      "File \u001b[0;32m~/projects/Learning-is-Good-for-Man/python/projects/sqlalchemy_test_polygon/.venv/lib/python3.8/site-packages/sqlalchemy/sql/elements.py:476\u001b[0m, in \u001b[0;36mClauseElement.compile\u001b[0;34m(self, default, bind, dialect, **kw)\u001b[0m\n\u001b[1;32m    474\u001b[0m     \u001b[39melse\u001b[39;00m:\n\u001b[1;32m    475\u001b[0m         dialect \u001b[39m=\u001b[39m default\u001b[39m.\u001b[39mStrCompileDialect()\n\u001b[0;32m--> 476\u001b[0m \u001b[39mreturn\u001b[39;00m \u001b[39mself\u001b[39;49m\u001b[39m.\u001b[39;49m_compiler(dialect, bind\u001b[39m=\u001b[39;49mbind, \u001b[39m*\u001b[39;49m\u001b[39m*\u001b[39;49mkw)\n",
      "File \u001b[0;32m~/projects/Learning-is-Good-for-Man/python/projects/sqlalchemy_test_polygon/.venv/lib/python3.8/site-packages/sqlalchemy/sql/elements.py:482\u001b[0m, in \u001b[0;36mClauseElement._compiler\u001b[0;34m(self, dialect, **kw)\u001b[0m\n\u001b[1;32m    478\u001b[0m \u001b[39mdef\u001b[39;00m \u001b[39m_compiler\u001b[39m(\u001b[39mself\u001b[39m, dialect, \u001b[39m*\u001b[39m\u001b[39m*\u001b[39mkw):\n\u001b[1;32m    479\u001b[0m     \u001b[39m\"\"\"Return a compiler appropriate for this ClauseElement, given a\u001b[39;00m\n\u001b[1;32m    480\u001b[0m \u001b[39m    Dialect.\"\"\"\u001b[39;00m\n\u001b[0;32m--> 482\u001b[0m     \u001b[39mreturn\u001b[39;00m dialect\u001b[39m.\u001b[39;49mstatement_compiler(dialect, \u001b[39mself\u001b[39;49m, \u001b[39m*\u001b[39;49m\u001b[39m*\u001b[39;49mkw)\n",
      "File \u001b[0;32m~/projects/Learning-is-Good-for-Man/python/projects/sqlalchemy_test_polygon/.venv/lib/python3.8/site-packages/sqlalchemy/sql/compiler.py:590\u001b[0m, in \u001b[0;36mSQLCompiler.__init__\u001b[0;34m(self, dialect, statement, column_keys, inline, **kwargs)\u001b[0m\n\u001b[1;32m    586\u001b[0m \u001b[39m# a map which tracks \"truncated\" names based on\u001b[39;00m\n\u001b[1;32m    587\u001b[0m \u001b[39m# dialect.label_length or dialect.max_identifier_length\u001b[39;00m\n\u001b[1;32m    588\u001b[0m \u001b[39mself\u001b[39m\u001b[39m.\u001b[39mtruncated_names \u001b[39m=\u001b[39m {}\n\u001b[0;32m--> 590\u001b[0m Compiled\u001b[39m.\u001b[39;49m\u001b[39m__init__\u001b[39;49m(\u001b[39mself\u001b[39;49m, dialect, statement, \u001b[39m*\u001b[39;49m\u001b[39m*\u001b[39;49mkwargs)\n\u001b[1;32m    592\u001b[0m \u001b[39mif\u001b[39;00m (\n\u001b[1;32m    593\u001b[0m     \u001b[39mself\u001b[39m\u001b[39m.\u001b[39misinsert \u001b[39mor\u001b[39;00m \u001b[39mself\u001b[39m\u001b[39m.\u001b[39misupdate \u001b[39mor\u001b[39;00m \u001b[39mself\u001b[39m\u001b[39m.\u001b[39misdelete\n\u001b[1;32m    594\u001b[0m ) \u001b[39mand\u001b[39;00m statement\u001b[39m.\u001b[39m_returning:\n\u001b[1;32m    595\u001b[0m     \u001b[39mself\u001b[39m\u001b[39m.\u001b[39mreturning \u001b[39m=\u001b[39m statement\u001b[39m.\u001b[39m_returning\n",
      "File \u001b[0;32m~/projects/Learning-is-Good-for-Man/python/projects/sqlalchemy_test_polygon/.venv/lib/python3.8/site-packages/sqlalchemy/sql/compiler.py:319\u001b[0m, in \u001b[0;36mCompiled.__init__\u001b[0;34m(self, dialect, statement, bind, schema_translate_map, compile_kwargs)\u001b[0m\n\u001b[1;32m    317\u001b[0m \u001b[39mif\u001b[39;00m \u001b[39mself\u001b[39m\u001b[39m.\u001b[39mcan_execute:\n\u001b[1;32m    318\u001b[0m     \u001b[39mself\u001b[39m\u001b[39m.\u001b[39mexecution_options \u001b[39m=\u001b[39m statement\u001b[39m.\u001b[39m_execution_options\n\u001b[0;32m--> 319\u001b[0m \u001b[39mself\u001b[39m\u001b[39m.\u001b[39mstring \u001b[39m=\u001b[39m \u001b[39mself\u001b[39;49m\u001b[39m.\u001b[39;49mprocess(\u001b[39mself\u001b[39;49m\u001b[39m.\u001b[39;49mstatement, \u001b[39m*\u001b[39;49m\u001b[39m*\u001b[39;49mcompile_kwargs)\n",
      "File \u001b[0;32m~/projects/Learning-is-Good-for-Man/python/projects/sqlalchemy_test_polygon/.venv/lib/python3.8/site-packages/sqlalchemy/sql/compiler.py:350\u001b[0m, in \u001b[0;36mCompiled.process\u001b[0;34m(self, obj, **kwargs)\u001b[0m\n\u001b[1;32m    349\u001b[0m \u001b[39mdef\u001b[39;00m \u001b[39mprocess\u001b[39m(\u001b[39mself\u001b[39m, obj, \u001b[39m*\u001b[39m\u001b[39m*\u001b[39mkwargs):\n\u001b[0;32m--> 350\u001b[0m     \u001b[39mreturn\u001b[39;00m obj\u001b[39m.\u001b[39;49m_compiler_dispatch(\u001b[39mself\u001b[39;49m, \u001b[39m*\u001b[39;49m\u001b[39m*\u001b[39;49mkwargs)\n",
      "File \u001b[0;32m~/projects/Learning-is-Good-for-Man/python/projects/sqlalchemy_test_polygon/.venv/lib/python3.8/site-packages/sqlalchemy/sql/visitors.py:95\u001b[0m, in \u001b[0;36m_generate_dispatch.<locals>._compiler_dispatch\u001b[0;34m(self, visitor, **kw)\u001b[0m\n\u001b[1;32m     90\u001b[0m     util\u001b[39m.\u001b[39mraise_(\n\u001b[1;32m     91\u001b[0m         exc\u001b[39m.\u001b[39mUnsupportedCompilationError(visitor, \u001b[39mcls\u001b[39m),\n\u001b[1;32m     92\u001b[0m         replace_context\u001b[39m=\u001b[39merr,\n\u001b[1;32m     93\u001b[0m     )\n\u001b[1;32m     94\u001b[0m \u001b[39melse\u001b[39;00m:\n\u001b[0;32m---> 95\u001b[0m     \u001b[39mreturn\u001b[39;00m meth(\u001b[39mself\u001b[39;49m, \u001b[39m*\u001b[39;49m\u001b[39m*\u001b[39;49mkw)\n",
      "File \u001b[0;32m~/projects/Learning-is-Good-for-Man/python/projects/sqlalchemy_test_polygon/.venv/lib/python3.8/site-packages/sqlalchemy/sql/compiler.py:2161\u001b[0m, in \u001b[0;36mSQLCompiler.visit_select\u001b[0;34m(self, select, asfrom, parens, fromhints, compound_index, nested_join_translation, select_wraps_for, lateral, **kwargs)\u001b[0m\n\u001b[1;32m   2146\u001b[0m     translate \u001b[39m=\u001b[39m \u001b[39mdict\u001b[39m(\n\u001b[1;32m   2147\u001b[0m         \u001b[39mzip\u001b[39m(\n\u001b[1;32m   2148\u001b[0m             [name \u001b[39mfor\u001b[39;00m (key, name) \u001b[39min\u001b[39;00m select\u001b[39m.\u001b[39m_columns_plus_names],\n\u001b[0;32m   (...)\u001b[0m\n\u001b[1;32m   2153\u001b[0m         )\n\u001b[1;32m   2154\u001b[0m     )\n\u001b[1;32m   2156\u001b[0m     \u001b[39mself\u001b[39m\u001b[39m.\u001b[39m_result_columns \u001b[39m=\u001b[39m [\n\u001b[1;32m   2157\u001b[0m         (key, name, \u001b[39mtuple\u001b[39m(translate\u001b[39m.\u001b[39mget(o, o) \u001b[39mfor\u001b[39;00m o \u001b[39min\u001b[39;00m obj), type_)\n\u001b[1;32m   2158\u001b[0m         \u001b[39mfor\u001b[39;00m key, name, obj, type_ \u001b[39min\u001b[39;00m \u001b[39mself\u001b[39m\u001b[39m.\u001b[39m_result_columns\n\u001b[1;32m   2159\u001b[0m     ]\n\u001b[0;32m-> 2161\u001b[0m text \u001b[39m=\u001b[39m \u001b[39mself\u001b[39;49m\u001b[39m.\u001b[39;49m_compose_select_body(\n\u001b[1;32m   2162\u001b[0m     text, select, inner_columns, froms, byfrom, kwargs\n\u001b[1;32m   2163\u001b[0m )\n\u001b[1;32m   2165\u001b[0m \u001b[39mif\u001b[39;00m select\u001b[39m.\u001b[39m_statement_hints:\n\u001b[1;32m   2166\u001b[0m     per_dialect \u001b[39m=\u001b[39m [\n\u001b[1;32m   2167\u001b[0m         ht\n\u001b[1;32m   2168\u001b[0m         \u001b[39mfor\u001b[39;00m (dialect_name, ht) \u001b[39min\u001b[39;00m select\u001b[39m.\u001b[39m_statement_hints\n\u001b[1;32m   2169\u001b[0m         \u001b[39mif\u001b[39;00m dialect_name \u001b[39min\u001b[39;00m (\u001b[39m\"\u001b[39m\u001b[39m*\u001b[39m\u001b[39m\"\u001b[39m, \u001b[39mself\u001b[39m\u001b[39m.\u001b[39mdialect\u001b[39m.\u001b[39mname)\n\u001b[1;32m   2170\u001b[0m     ]\n",
      "File \u001b[0;32m~/projects/Learning-is-Good-for-Man/python/projects/sqlalchemy_test_polygon/.venv/lib/python3.8/site-packages/sqlalchemy/sql/compiler.py:2252\u001b[0m, in \u001b[0;36mSQLCompiler._compose_select_body\u001b[0;34m(self, text, select, inner_columns, froms, byfrom, kwargs)\u001b[0m\n\u001b[1;32m   2242\u001b[0m         text \u001b[39m+\u001b[39m\u001b[39m=\u001b[39m \u001b[39m\"\u001b[39m\u001b[39m, \u001b[39m\u001b[39m\"\u001b[39m\u001b[39m.\u001b[39mjoin(\n\u001b[1;32m   2243\u001b[0m             [\n\u001b[1;32m   2244\u001b[0m                 f\u001b[39m.\u001b[39m_compiler_dispatch(\n\u001b[0;32m   (...)\u001b[0m\n\u001b[1;32m   2248\u001b[0m             ]\n\u001b[1;32m   2249\u001b[0m         )\n\u001b[1;32m   2250\u001b[0m     \u001b[39melse\u001b[39;00m:\n\u001b[1;32m   2251\u001b[0m         text \u001b[39m+\u001b[39m\u001b[39m=\u001b[39m \u001b[39m\"\u001b[39m\u001b[39m, \u001b[39m\u001b[39m\"\u001b[39m\u001b[39m.\u001b[39mjoin(\n\u001b[0;32m-> 2252\u001b[0m             [\n\u001b[1;32m   2253\u001b[0m                 f\u001b[39m.\u001b[39m_compiler_dispatch(\u001b[39mself\u001b[39m, asfrom\u001b[39m=\u001b[39m\u001b[39mTrue\u001b[39;00m, \u001b[39m*\u001b[39m\u001b[39m*\u001b[39mkwargs)\n\u001b[1;32m   2254\u001b[0m                 \u001b[39mfor\u001b[39;00m f \u001b[39min\u001b[39;00m froms\n\u001b[1;32m   2255\u001b[0m             ]\n\u001b[1;32m   2256\u001b[0m         )\n\u001b[1;32m   2257\u001b[0m \u001b[39melse\u001b[39;00m:\n\u001b[1;32m   2258\u001b[0m     text \u001b[39m+\u001b[39m\u001b[39m=\u001b[39m \u001b[39mself\u001b[39m\u001b[39m.\u001b[39mdefault_from()\n",
      "File \u001b[0;32m~/projects/Learning-is-Good-for-Man/python/projects/sqlalchemy_test_polygon/.venv/lib/python3.8/site-packages/sqlalchemy/sql/compiler.py:2253\u001b[0m, in \u001b[0;36m<listcomp>\u001b[0;34m(.0)\u001b[0m\n\u001b[1;32m   2242\u001b[0m         text \u001b[39m+\u001b[39m\u001b[39m=\u001b[39m \u001b[39m\"\u001b[39m\u001b[39m, \u001b[39m\u001b[39m\"\u001b[39m\u001b[39m.\u001b[39mjoin(\n\u001b[1;32m   2243\u001b[0m             [\n\u001b[1;32m   2244\u001b[0m                 f\u001b[39m.\u001b[39m_compiler_dispatch(\n\u001b[0;32m   (...)\u001b[0m\n\u001b[1;32m   2248\u001b[0m             ]\n\u001b[1;32m   2249\u001b[0m         )\n\u001b[1;32m   2250\u001b[0m     \u001b[39melse\u001b[39;00m:\n\u001b[1;32m   2251\u001b[0m         text \u001b[39m+\u001b[39m\u001b[39m=\u001b[39m \u001b[39m\"\u001b[39m\u001b[39m, \u001b[39m\u001b[39m\"\u001b[39m\u001b[39m.\u001b[39mjoin(\n\u001b[1;32m   2252\u001b[0m             [\n\u001b[0;32m-> 2253\u001b[0m                 f\u001b[39m.\u001b[39;49m_compiler_dispatch(\u001b[39mself\u001b[39;49m, asfrom\u001b[39m=\u001b[39;49m\u001b[39mTrue\u001b[39;49;00m, \u001b[39m*\u001b[39;49m\u001b[39m*\u001b[39;49mkwargs)\n\u001b[1;32m   2254\u001b[0m                 \u001b[39mfor\u001b[39;00m f \u001b[39min\u001b[39;00m froms\n\u001b[1;32m   2255\u001b[0m             ]\n\u001b[1;32m   2256\u001b[0m         )\n\u001b[1;32m   2257\u001b[0m \u001b[39melse\u001b[39;00m:\n\u001b[1;32m   2258\u001b[0m     text \u001b[39m+\u001b[39m\u001b[39m=\u001b[39m \u001b[39mself\u001b[39m\u001b[39m.\u001b[39mdefault_from()\n",
      "File \u001b[0;32m~/projects/Learning-is-Good-for-Man/python/projects/sqlalchemy_test_polygon/.venv/lib/python3.8/site-packages/sqlalchemy/sql/visitors.py:95\u001b[0m, in \u001b[0;36m_generate_dispatch.<locals>._compiler_dispatch\u001b[0;34m(self, visitor, **kw)\u001b[0m\n\u001b[1;32m     90\u001b[0m     util\u001b[39m.\u001b[39mraise_(\n\u001b[1;32m     91\u001b[0m         exc\u001b[39m.\u001b[39mUnsupportedCompilationError(visitor, \u001b[39mcls\u001b[39m),\n\u001b[1;32m     92\u001b[0m         replace_context\u001b[39m=\u001b[39merr,\n\u001b[1;32m     93\u001b[0m     )\n\u001b[1;32m     94\u001b[0m \u001b[39melse\u001b[39;00m:\n\u001b[0;32m---> 95\u001b[0m     \u001b[39mreturn\u001b[39;00m meth(\u001b[39mself\u001b[39;49m, \u001b[39m*\u001b[39;49m\u001b[39m*\u001b[39;49mkw)\n",
      "File \u001b[0;32m~/projects/Learning-is-Good-for-Man/python/projects/sqlalchemy_test_polygon/.venv/lib/python3.8/site-packages/sqlalchemy/sql/compiler.py:1653\u001b[0m, in \u001b[0;36mSQLCompiler.visit_cte\u001b[0;34m(self, cte, asfrom, ashint, fromhints, visiting_cte, **kwargs)\u001b[0m\n\u001b[1;32m   1651\u001b[0m         \u001b[39mdel\u001b[39;00m \u001b[39mself\u001b[39m\u001b[39m.\u001b[39mctes[existing_cte]\n\u001b[1;32m   1652\u001b[0m     \u001b[39melse\u001b[39;00m:\n\u001b[0;32m-> 1653\u001b[0m         \u001b[39mraise\u001b[39;00m exc\u001b[39m.\u001b[39mCompileError(\n\u001b[1;32m   1654\u001b[0m             \u001b[39m\"\u001b[39m\u001b[39mMultiple, unrelated CTEs found with \u001b[39m\u001b[39m\"\u001b[39m\n\u001b[1;32m   1655\u001b[0m             \u001b[39m\"\u001b[39m\u001b[39mthe same name: \u001b[39m\u001b[39m%r\u001b[39;00m\u001b[39m\"\u001b[39m \u001b[39m%\u001b[39m cte_name\n\u001b[1;32m   1656\u001b[0m         )\n\u001b[1;32m   1658\u001b[0m \u001b[39mif\u001b[39;00m asfrom \u001b[39mor\u001b[39;00m is_new_cte:\n\u001b[1;32m   1659\u001b[0m     \u001b[39mif\u001b[39;00m cte\u001b[39m.\u001b[39m_cte_alias \u001b[39mis\u001b[39;00m \u001b[39mnot\u001b[39;00m \u001b[39mNone\u001b[39;00m:\n",
      "\u001b[0;31mCompileError\u001b[0m: Multiple, unrelated CTEs found with the same name: 'eva00'"
     ]
    }
   ],
   "source": [
    "u_cte_2 = select([literal(1).label('col_1')]).cte(name='eva00')\n",
    "\n",
    "q1 = select([users.c.id + u_cte_1.c.col_1]).where(users.c.id == u_cte_2.c.col_1)\n",
    "\n",
    "print(q1)"
   ]
  },
  {
   "cell_type": "code",
   "execution_count": 32,
   "metadata": {},
   "outputs": [
    {
     "ename": "CompileError",
     "evalue": "Multiple, unrelated CTEs found with the same name: 'us_id'",
     "output_type": "error",
     "traceback": [
      "\u001b[0;31m---------------------------------------------------------------------------\u001b[0m",
      "\u001b[0;31mCompileError\u001b[0m                              Traceback (most recent call last)",
      "Cell \u001b[0;32mIn[32], line 8\u001b[0m\n\u001b[1;32m      4\u001b[0m up_id_cte \u001b[39m=\u001b[39m select([phones\u001b[39m.\u001b[39mc\u001b[39m.\u001b[39muser_id])\u001b[39m.\u001b[39mwhere(phones\u001b[39m.\u001b[39mc\u001b[39m.\u001b[39muser_id \u001b[39m==\u001b[39m u_id_cte_1\u001b[39m.\u001b[39mc\u001b[39m.\u001b[39mid)\u001b[39m.\u001b[39mcte(name\u001b[39m=\u001b[39m\u001b[39m'\u001b[39m\u001b[39mup_id\u001b[39m\u001b[39m'\u001b[39m)\n\u001b[1;32m      6\u001b[0m result_query \u001b[39m=\u001b[39m select([phones\u001b[39m.\u001b[39mc\u001b[39m.\u001b[39mnumber])\u001b[39m.\u001b[39mwhere((phones\u001b[39m.\u001b[39mc\u001b[39m.\u001b[39muser_id \u001b[39m==\u001b[39m up_id_cte\u001b[39m.\u001b[39mc\u001b[39m.\u001b[39muser_id) \u001b[39m&\u001b[39m (phones\u001b[39m.\u001b[39mc\u001b[39m.\u001b[39muser_id \u001b[39m==\u001b[39m u_id_cte\u001b[39m.\u001b[39mc\u001b[39m.\u001b[39mid))\n\u001b[0;32m----> 8\u001b[0m \u001b[39mprint\u001b[39;49m(result_query)\n",
      "File \u001b[0;32m~/projects/Learning-is-Good-for-Man/python/projects/sqlalchemy_test_polygon/.venv/lib/python3.8/site-packages/sqlalchemy/sql/elements.py:486\u001b[0m, in \u001b[0;36mClauseElement.__str__\u001b[0;34m(self)\u001b[0m\n\u001b[1;32m    484\u001b[0m \u001b[39mdef\u001b[39;00m \u001b[39m__str__\u001b[39m(\u001b[39mself\u001b[39m):\n\u001b[1;32m    485\u001b[0m     \u001b[39mif\u001b[39;00m util\u001b[39m.\u001b[39mpy3k:\n\u001b[0;32m--> 486\u001b[0m         \u001b[39mreturn\u001b[39;00m \u001b[39mstr\u001b[39m(\u001b[39mself\u001b[39;49m\u001b[39m.\u001b[39;49mcompile())\n\u001b[1;32m    487\u001b[0m     \u001b[39melse\u001b[39;00m:\n\u001b[1;32m    488\u001b[0m         \u001b[39mreturn\u001b[39;00m unicode(\u001b[39mself\u001b[39m\u001b[39m.\u001b[39mcompile())\u001b[39m.\u001b[39mencode(  \u001b[39m# noqa\u001b[39;00m\n\u001b[1;32m    489\u001b[0m             \u001b[39m\"\u001b[39m\u001b[39mascii\u001b[39m\u001b[39m\"\u001b[39m, \u001b[39m\"\u001b[39m\u001b[39mbackslashreplace\u001b[39m\u001b[39m\"\u001b[39m\n\u001b[1;32m    490\u001b[0m         )\n",
      "File \u001b[0;32m<string>:1\u001b[0m, in \u001b[0;36m<lambda>\u001b[0;34m(self, bind, dialect, **kw)\u001b[0m\n",
      "File \u001b[0;32m~/projects/Learning-is-Good-for-Man/python/projects/sqlalchemy_test_polygon/.venv/lib/python3.8/site-packages/sqlalchemy/sql/elements.py:476\u001b[0m, in \u001b[0;36mClauseElement.compile\u001b[0;34m(self, default, bind, dialect, **kw)\u001b[0m\n\u001b[1;32m    474\u001b[0m     \u001b[39melse\u001b[39;00m:\n\u001b[1;32m    475\u001b[0m         dialect \u001b[39m=\u001b[39m default\u001b[39m.\u001b[39mStrCompileDialect()\n\u001b[0;32m--> 476\u001b[0m \u001b[39mreturn\u001b[39;00m \u001b[39mself\u001b[39;49m\u001b[39m.\u001b[39;49m_compiler(dialect, bind\u001b[39m=\u001b[39;49mbind, \u001b[39m*\u001b[39;49m\u001b[39m*\u001b[39;49mkw)\n",
      "File \u001b[0;32m~/projects/Learning-is-Good-for-Man/python/projects/sqlalchemy_test_polygon/.venv/lib/python3.8/site-packages/sqlalchemy/sql/elements.py:482\u001b[0m, in \u001b[0;36mClauseElement._compiler\u001b[0;34m(self, dialect, **kw)\u001b[0m\n\u001b[1;32m    478\u001b[0m \u001b[39mdef\u001b[39;00m \u001b[39m_compiler\u001b[39m(\u001b[39mself\u001b[39m, dialect, \u001b[39m*\u001b[39m\u001b[39m*\u001b[39mkw):\n\u001b[1;32m    479\u001b[0m     \u001b[39m\"\"\"Return a compiler appropriate for this ClauseElement, given a\u001b[39;00m\n\u001b[1;32m    480\u001b[0m \u001b[39m    Dialect.\"\"\"\u001b[39;00m\n\u001b[0;32m--> 482\u001b[0m     \u001b[39mreturn\u001b[39;00m dialect\u001b[39m.\u001b[39;49mstatement_compiler(dialect, \u001b[39mself\u001b[39;49m, \u001b[39m*\u001b[39;49m\u001b[39m*\u001b[39;49mkw)\n",
      "File \u001b[0;32m~/projects/Learning-is-Good-for-Man/python/projects/sqlalchemy_test_polygon/.venv/lib/python3.8/site-packages/sqlalchemy/sql/compiler.py:590\u001b[0m, in \u001b[0;36mSQLCompiler.__init__\u001b[0;34m(self, dialect, statement, column_keys, inline, **kwargs)\u001b[0m\n\u001b[1;32m    586\u001b[0m \u001b[39m# a map which tracks \"truncated\" names based on\u001b[39;00m\n\u001b[1;32m    587\u001b[0m \u001b[39m# dialect.label_length or dialect.max_identifier_length\u001b[39;00m\n\u001b[1;32m    588\u001b[0m \u001b[39mself\u001b[39m\u001b[39m.\u001b[39mtruncated_names \u001b[39m=\u001b[39m {}\n\u001b[0;32m--> 590\u001b[0m Compiled\u001b[39m.\u001b[39;49m\u001b[39m__init__\u001b[39;49m(\u001b[39mself\u001b[39;49m, dialect, statement, \u001b[39m*\u001b[39;49m\u001b[39m*\u001b[39;49mkwargs)\n\u001b[1;32m    592\u001b[0m \u001b[39mif\u001b[39;00m (\n\u001b[1;32m    593\u001b[0m     \u001b[39mself\u001b[39m\u001b[39m.\u001b[39misinsert \u001b[39mor\u001b[39;00m \u001b[39mself\u001b[39m\u001b[39m.\u001b[39misupdate \u001b[39mor\u001b[39;00m \u001b[39mself\u001b[39m\u001b[39m.\u001b[39misdelete\n\u001b[1;32m    594\u001b[0m ) \u001b[39mand\u001b[39;00m statement\u001b[39m.\u001b[39m_returning:\n\u001b[1;32m    595\u001b[0m     \u001b[39mself\u001b[39m\u001b[39m.\u001b[39mreturning \u001b[39m=\u001b[39m statement\u001b[39m.\u001b[39m_returning\n",
      "File \u001b[0;32m~/projects/Learning-is-Good-for-Man/python/projects/sqlalchemy_test_polygon/.venv/lib/python3.8/site-packages/sqlalchemy/sql/compiler.py:319\u001b[0m, in \u001b[0;36mCompiled.__init__\u001b[0;34m(self, dialect, statement, bind, schema_translate_map, compile_kwargs)\u001b[0m\n\u001b[1;32m    317\u001b[0m \u001b[39mif\u001b[39;00m \u001b[39mself\u001b[39m\u001b[39m.\u001b[39mcan_execute:\n\u001b[1;32m    318\u001b[0m     \u001b[39mself\u001b[39m\u001b[39m.\u001b[39mexecution_options \u001b[39m=\u001b[39m statement\u001b[39m.\u001b[39m_execution_options\n\u001b[0;32m--> 319\u001b[0m \u001b[39mself\u001b[39m\u001b[39m.\u001b[39mstring \u001b[39m=\u001b[39m \u001b[39mself\u001b[39;49m\u001b[39m.\u001b[39;49mprocess(\u001b[39mself\u001b[39;49m\u001b[39m.\u001b[39;49mstatement, \u001b[39m*\u001b[39;49m\u001b[39m*\u001b[39;49mcompile_kwargs)\n",
      "File \u001b[0;32m~/projects/Learning-is-Good-for-Man/python/projects/sqlalchemy_test_polygon/.venv/lib/python3.8/site-packages/sqlalchemy/sql/compiler.py:350\u001b[0m, in \u001b[0;36mCompiled.process\u001b[0;34m(self, obj, **kwargs)\u001b[0m\n\u001b[1;32m    349\u001b[0m \u001b[39mdef\u001b[39;00m \u001b[39mprocess\u001b[39m(\u001b[39mself\u001b[39m, obj, \u001b[39m*\u001b[39m\u001b[39m*\u001b[39mkwargs):\n\u001b[0;32m--> 350\u001b[0m     \u001b[39mreturn\u001b[39;00m obj\u001b[39m.\u001b[39;49m_compiler_dispatch(\u001b[39mself\u001b[39;49m, \u001b[39m*\u001b[39;49m\u001b[39m*\u001b[39;49mkwargs)\n",
      "File \u001b[0;32m~/projects/Learning-is-Good-for-Man/python/projects/sqlalchemy_test_polygon/.venv/lib/python3.8/site-packages/sqlalchemy/sql/visitors.py:95\u001b[0m, in \u001b[0;36m_generate_dispatch.<locals>._compiler_dispatch\u001b[0;34m(self, visitor, **kw)\u001b[0m\n\u001b[1;32m     90\u001b[0m     util\u001b[39m.\u001b[39mraise_(\n\u001b[1;32m     91\u001b[0m         exc\u001b[39m.\u001b[39mUnsupportedCompilationError(visitor, \u001b[39mcls\u001b[39m),\n\u001b[1;32m     92\u001b[0m         replace_context\u001b[39m=\u001b[39merr,\n\u001b[1;32m     93\u001b[0m     )\n\u001b[1;32m     94\u001b[0m \u001b[39melse\u001b[39;00m:\n\u001b[0;32m---> 95\u001b[0m     \u001b[39mreturn\u001b[39;00m meth(\u001b[39mself\u001b[39;49m, \u001b[39m*\u001b[39;49m\u001b[39m*\u001b[39;49mkw)\n",
      "File \u001b[0;32m~/projects/Learning-is-Good-for-Man/python/projects/sqlalchemy_test_polygon/.venv/lib/python3.8/site-packages/sqlalchemy/sql/compiler.py:2161\u001b[0m, in \u001b[0;36mSQLCompiler.visit_select\u001b[0;34m(self, select, asfrom, parens, fromhints, compound_index, nested_join_translation, select_wraps_for, lateral, **kwargs)\u001b[0m\n\u001b[1;32m   2146\u001b[0m     translate \u001b[39m=\u001b[39m \u001b[39mdict\u001b[39m(\n\u001b[1;32m   2147\u001b[0m         \u001b[39mzip\u001b[39m(\n\u001b[1;32m   2148\u001b[0m             [name \u001b[39mfor\u001b[39;00m (key, name) \u001b[39min\u001b[39;00m select\u001b[39m.\u001b[39m_columns_plus_names],\n\u001b[0;32m   (...)\u001b[0m\n\u001b[1;32m   2153\u001b[0m         )\n\u001b[1;32m   2154\u001b[0m     )\n\u001b[1;32m   2156\u001b[0m     \u001b[39mself\u001b[39m\u001b[39m.\u001b[39m_result_columns \u001b[39m=\u001b[39m [\n\u001b[1;32m   2157\u001b[0m         (key, name, \u001b[39mtuple\u001b[39m(translate\u001b[39m.\u001b[39mget(o, o) \u001b[39mfor\u001b[39;00m o \u001b[39min\u001b[39;00m obj), type_)\n\u001b[1;32m   2158\u001b[0m         \u001b[39mfor\u001b[39;00m key, name, obj, type_ \u001b[39min\u001b[39;00m \u001b[39mself\u001b[39m\u001b[39m.\u001b[39m_result_columns\n\u001b[1;32m   2159\u001b[0m     ]\n\u001b[0;32m-> 2161\u001b[0m text \u001b[39m=\u001b[39m \u001b[39mself\u001b[39;49m\u001b[39m.\u001b[39;49m_compose_select_body(\n\u001b[1;32m   2162\u001b[0m     text, select, inner_columns, froms, byfrom, kwargs\n\u001b[1;32m   2163\u001b[0m )\n\u001b[1;32m   2165\u001b[0m \u001b[39mif\u001b[39;00m select\u001b[39m.\u001b[39m_statement_hints:\n\u001b[1;32m   2166\u001b[0m     per_dialect \u001b[39m=\u001b[39m [\n\u001b[1;32m   2167\u001b[0m         ht\n\u001b[1;32m   2168\u001b[0m         \u001b[39mfor\u001b[39;00m (dialect_name, ht) \u001b[39min\u001b[39;00m select\u001b[39m.\u001b[39m_statement_hints\n\u001b[1;32m   2169\u001b[0m         \u001b[39mif\u001b[39;00m dialect_name \u001b[39min\u001b[39;00m (\u001b[39m\"\u001b[39m\u001b[39m*\u001b[39m\u001b[39m\"\u001b[39m, \u001b[39mself\u001b[39m\u001b[39m.\u001b[39mdialect\u001b[39m.\u001b[39mname)\n\u001b[1;32m   2170\u001b[0m     ]\n",
      "File \u001b[0;32m~/projects/Learning-is-Good-for-Man/python/projects/sqlalchemy_test_polygon/.venv/lib/python3.8/site-packages/sqlalchemy/sql/compiler.py:2252\u001b[0m, in \u001b[0;36mSQLCompiler._compose_select_body\u001b[0;34m(self, text, select, inner_columns, froms, byfrom, kwargs)\u001b[0m\n\u001b[1;32m   2242\u001b[0m         text \u001b[39m+\u001b[39m\u001b[39m=\u001b[39m \u001b[39m\"\u001b[39m\u001b[39m, \u001b[39m\u001b[39m\"\u001b[39m\u001b[39m.\u001b[39mjoin(\n\u001b[1;32m   2243\u001b[0m             [\n\u001b[1;32m   2244\u001b[0m                 f\u001b[39m.\u001b[39m_compiler_dispatch(\n\u001b[0;32m   (...)\u001b[0m\n\u001b[1;32m   2248\u001b[0m             ]\n\u001b[1;32m   2249\u001b[0m         )\n\u001b[1;32m   2250\u001b[0m     \u001b[39melse\u001b[39;00m:\n\u001b[1;32m   2251\u001b[0m         text \u001b[39m+\u001b[39m\u001b[39m=\u001b[39m \u001b[39m\"\u001b[39m\u001b[39m, \u001b[39m\u001b[39m\"\u001b[39m\u001b[39m.\u001b[39mjoin(\n\u001b[0;32m-> 2252\u001b[0m             [\n\u001b[1;32m   2253\u001b[0m                 f\u001b[39m.\u001b[39m_compiler_dispatch(\u001b[39mself\u001b[39m, asfrom\u001b[39m=\u001b[39m\u001b[39mTrue\u001b[39;00m, \u001b[39m*\u001b[39m\u001b[39m*\u001b[39mkwargs)\n\u001b[1;32m   2254\u001b[0m                 \u001b[39mfor\u001b[39;00m f \u001b[39min\u001b[39;00m froms\n\u001b[1;32m   2255\u001b[0m             ]\n\u001b[1;32m   2256\u001b[0m         )\n\u001b[1;32m   2257\u001b[0m \u001b[39melse\u001b[39;00m:\n\u001b[1;32m   2258\u001b[0m     text \u001b[39m+\u001b[39m\u001b[39m=\u001b[39m \u001b[39mself\u001b[39m\u001b[39m.\u001b[39mdefault_from()\n",
      "File \u001b[0;32m~/projects/Learning-is-Good-for-Man/python/projects/sqlalchemy_test_polygon/.venv/lib/python3.8/site-packages/sqlalchemy/sql/compiler.py:2253\u001b[0m, in \u001b[0;36m<listcomp>\u001b[0;34m(.0)\u001b[0m\n\u001b[1;32m   2242\u001b[0m         text \u001b[39m+\u001b[39m\u001b[39m=\u001b[39m \u001b[39m\"\u001b[39m\u001b[39m, \u001b[39m\u001b[39m\"\u001b[39m\u001b[39m.\u001b[39mjoin(\n\u001b[1;32m   2243\u001b[0m             [\n\u001b[1;32m   2244\u001b[0m                 f\u001b[39m.\u001b[39m_compiler_dispatch(\n\u001b[0;32m   (...)\u001b[0m\n\u001b[1;32m   2248\u001b[0m             ]\n\u001b[1;32m   2249\u001b[0m         )\n\u001b[1;32m   2250\u001b[0m     \u001b[39melse\u001b[39;00m:\n\u001b[1;32m   2251\u001b[0m         text \u001b[39m+\u001b[39m\u001b[39m=\u001b[39m \u001b[39m\"\u001b[39m\u001b[39m, \u001b[39m\u001b[39m\"\u001b[39m\u001b[39m.\u001b[39mjoin(\n\u001b[1;32m   2252\u001b[0m             [\n\u001b[0;32m-> 2253\u001b[0m                 f\u001b[39m.\u001b[39;49m_compiler_dispatch(\u001b[39mself\u001b[39;49m, asfrom\u001b[39m=\u001b[39;49m\u001b[39mTrue\u001b[39;49;00m, \u001b[39m*\u001b[39;49m\u001b[39m*\u001b[39;49mkwargs)\n\u001b[1;32m   2254\u001b[0m                 \u001b[39mfor\u001b[39;00m f \u001b[39min\u001b[39;00m froms\n\u001b[1;32m   2255\u001b[0m             ]\n\u001b[1;32m   2256\u001b[0m         )\n\u001b[1;32m   2257\u001b[0m \u001b[39melse\u001b[39;00m:\n\u001b[1;32m   2258\u001b[0m     text \u001b[39m+\u001b[39m\u001b[39m=\u001b[39m \u001b[39mself\u001b[39m\u001b[39m.\u001b[39mdefault_from()\n",
      "File \u001b[0;32m~/projects/Learning-is-Good-for-Man/python/projects/sqlalchemy_test_polygon/.venv/lib/python3.8/site-packages/sqlalchemy/sql/visitors.py:95\u001b[0m, in \u001b[0;36m_generate_dispatch.<locals>._compiler_dispatch\u001b[0;34m(self, visitor, **kw)\u001b[0m\n\u001b[1;32m     90\u001b[0m     util\u001b[39m.\u001b[39mraise_(\n\u001b[1;32m     91\u001b[0m         exc\u001b[39m.\u001b[39mUnsupportedCompilationError(visitor, \u001b[39mcls\u001b[39m),\n\u001b[1;32m     92\u001b[0m         replace_context\u001b[39m=\u001b[39merr,\n\u001b[1;32m     93\u001b[0m     )\n\u001b[1;32m     94\u001b[0m \u001b[39melse\u001b[39;00m:\n\u001b[0;32m---> 95\u001b[0m     \u001b[39mreturn\u001b[39;00m meth(\u001b[39mself\u001b[39;49m, \u001b[39m*\u001b[39;49m\u001b[39m*\u001b[39;49mkw)\n",
      "File \u001b[0;32m~/projects/Learning-is-Good-for-Man/python/projects/sqlalchemy_test_polygon/.venv/lib/python3.8/site-packages/sqlalchemy/sql/compiler.py:1653\u001b[0m, in \u001b[0;36mSQLCompiler.visit_cte\u001b[0;34m(self, cte, asfrom, ashint, fromhints, visiting_cte, **kwargs)\u001b[0m\n\u001b[1;32m   1651\u001b[0m         \u001b[39mdel\u001b[39;00m \u001b[39mself\u001b[39m\u001b[39m.\u001b[39mctes[existing_cte]\n\u001b[1;32m   1652\u001b[0m     \u001b[39melse\u001b[39;00m:\n\u001b[0;32m-> 1653\u001b[0m         \u001b[39mraise\u001b[39;00m exc\u001b[39m.\u001b[39mCompileError(\n\u001b[1;32m   1654\u001b[0m             \u001b[39m\"\u001b[39m\u001b[39mMultiple, unrelated CTEs found with \u001b[39m\u001b[39m\"\u001b[39m\n\u001b[1;32m   1655\u001b[0m             \u001b[39m\"\u001b[39m\u001b[39mthe same name: \u001b[39m\u001b[39m%r\u001b[39;00m\u001b[39m\"\u001b[39m \u001b[39m%\u001b[39m cte_name\n\u001b[1;32m   1656\u001b[0m         )\n\u001b[1;32m   1658\u001b[0m \u001b[39mif\u001b[39;00m asfrom \u001b[39mor\u001b[39;00m is_new_cte:\n\u001b[1;32m   1659\u001b[0m     \u001b[39mif\u001b[39;00m cte\u001b[39m.\u001b[39m_cte_alias \u001b[39mis\u001b[39;00m \u001b[39mnot\u001b[39;00m \u001b[39mNone\u001b[39;00m:\n",
      "\u001b[0;31mCompileError\u001b[0m: Multiple, unrelated CTEs found with the same name: 'us_id'"
     ]
    }
   ],
   "source": [
    "u_id_cte = select([users.c.id]).cte(name='us_id')\n",
    "\n",
    "u_id_cte_1 = select([users.c.id]).cte(name='us_id')\n",
    "up_id_cte = select([phones.c.user_id]).where(phones.c.user_id == u_id_cte_1.c.id).cte(name='up_id')\n",
    "\n",
    "result_query = select([phones.c.number]).where((phones.c.user_id == up_id_cte.c.user_id) & (phones.c.user_id == u_id_cte.c.id))\n",
    "\n",
    "print(result_query)"
   ]
  },
  {
   "cell_type": "code",
   "execution_count": 30,
   "metadata": {},
   "outputs": [
    {
     "data": {
      "text/plain": [
       "['__class__',\n",
       " '__delattr__',\n",
       " '__dir__',\n",
       " '__doc__',\n",
       " '__eq__',\n",
       " '__format__',\n",
       " '__ge__',\n",
       " '__get__',\n",
       " '__getattribute__',\n",
       " '__gt__',\n",
       " '__hash__',\n",
       " '__init__',\n",
       " '__init_subclass__',\n",
       " '__le__',\n",
       " '__lt__',\n",
       " '__ne__',\n",
       " '__new__',\n",
       " '__reduce__',\n",
       " '__reduce_ex__',\n",
       " '__repr__',\n",
       " '__self__',\n",
       " '__self_class__',\n",
       " '__setattr__',\n",
       " '__sizeof__',\n",
       " '__str__',\n",
       " '__subclasshook__',\n",
       " '__thisclass__',\n",
       " 'id']"
      ]
     },
     "execution_count": 30,
     "metadata": {},
     "output_type": "execute_result"
    }
   ],
   "source": [
    "from sqlalchemy import column\n",
    "from sqlalchemy.sql.base import ImmutableColumnCollection\n",
    "\n",
    "dir(select([column('id')]).select_from(users).cte().columns)"
   ]
  }
 ],
 "metadata": {
  "kernelspec": {
   "display_name": ".venv",
   "language": "python",
   "name": "python3"
  },
  "language_info": {
   "codemirror_mode": {
    "name": "ipython",
    "version": 3
   },
   "file_extension": ".py",
   "mimetype": "text/x-python",
   "name": "python",
   "nbconvert_exporter": "python",
   "pygments_lexer": "ipython3",
   "version": "3.8.12"
  },
  "orig_nbformat": 4,
  "vscode": {
   "interpreter": {
    "hash": "bb73b5548a187301e89425ac0de2a0fa5ae3deba842f3a3a5f360d6b6e7694e9"
   }
  }
 },
 "nbformat": 4,
 "nbformat_minor": 2
}
