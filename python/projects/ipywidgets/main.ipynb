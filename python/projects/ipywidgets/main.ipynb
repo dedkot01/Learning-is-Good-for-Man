{
 "cells": [
  {
   "cell_type": "code",
   "execution_count": null,
   "metadata": {
    "tags": []
   },
   "outputs": [],
   "source": [
    "from MyForm import MyForm\n",
    "\n",
    "form = MyForm()\n",
    "\n",
    "form.show()"
   ]
  },
  {
   "cell_type": "code",
   "execution_count": null,
   "metadata": {},
   "outputs": [],
   "source": [
    "form.prgBar.value"
   ]
  },
  {
   "cell_type": "code",
   "execution_count": null,
   "metadata": {},
   "outputs": [],
   "source": [
    "from ipywidgets import GridspecLayout, FloatText, Layout\n",
    "layout = GridspecLayout(n_rows=4, n_columns=2, height='200px')\n",
    "layout[:3, 0] = FloatText(layout=Layout(height='auto', width='10px'))\n",
    "layout[1:, 1] = FloatText(layout=Layout(height='auto', width='100px'))\n",
    "layout[-1, 0] = FloatText(layout=Layout(height='auto', width='100px'))\n",
    "layout[0, 1] = FloatText(layout=Layout(height='auto', width='auto'))\n",
    "layout"
   ]
  },
  {
   "cell_type": "code",
   "execution_count": null,
   "metadata": {},
   "outputs": [],
   "source": [
    "import ipywidgets as widgets\n",
    "from IPython import display\n",
    "\n",
    "o = widgets.Output()\n",
    "\n",
    "t1 = widgets.Text()\n",
    "t2 = widgets.Text()\n",
    "\n",
    "def check(event):\n",
    "    with o:\n",
    "        try:\n",
    "            if event['new'] not in ['']:\n",
    "                float(event['new'])\n",
    "                event['owner'].value = event['new'].strip()\n",
    "        except ValueError:\n",
    "            event['owner'].unobserve(check, names=['value'])\n",
    "            event['owner'].value = event['old']\n",
    "            event['owner'].observe(check, names=['value'])\n",
    "\n",
    "def foc(event):\n",
    "    with o:\n",
    "        print('o')\n",
    "\n",
    "t2.observe(check, names=['value'])\n",
    "t2.observe(foc, names=['value'])\n",
    "\n",
    "box = widgets.VBox([t1, t2, o])\n",
    "\n",
    "box"
   ]
  },
  {
   "cell_type": "markdown",
   "metadata": {},
   "source": [
    "### Validators"
   ]
  },
  {
   "cell_type": "code",
   "execution_count": 11,
   "metadata": {},
   "outputs": [
    {
     "data": {
      "text/html": [
       "<style>\n",
       "    .err_validation_color > input { background-color:#d12424 !important; }\n",
       "</style>"
      ],
      "text/plain": [
       "<IPython.core.display.HTML object>"
      ]
     },
     "metadata": {},
     "output_type": "display_data"
    },
    {
     "data": {
      "application/vnd.jupyter.widget-view+json": {
       "model_id": "e5b402e4acea422c9da1243a66ec5b7a",
       "version_major": 2,
       "version_minor": 0
      },
      "text/plain": [
       "Text(value='')"
      ]
     },
     "metadata": {},
     "output_type": "display_data"
    }
   ],
   "source": [
    "from functools import partial\n",
    "from typing import Callable, List\n",
    "import ipywidgets as w\n",
    "from IPython.display import display, HTML\n",
    "\n",
    "display(HTML('''<style>\n",
    "    .err_validation_color > input { background-color:#d12424 !important; }\n",
    "</style>'''))\n",
    "\n",
    "\n",
    "def is_empty_str(x: str):\n",
    "    x = x.strip()\n",
    "    return True if x is None or x == '' else False\n",
    "\n",
    "\n",
    "def is_have_text_str(x: str, substring: str):\n",
    "    return True if x.__contains__(substring) else False\n",
    "\n",
    "\n",
    "def validation(event, validation_funcs: List[Callable], how='any') -> None:\n",
    "    if how == 'all':\n",
    "        how = all\n",
    "    elif how == 'any':\n",
    "        how = any\n",
    "    else:\n",
    "        raise ValueError()\n",
    "\n",
    "    if how(map(lambda f: f(event['new']), validation_funcs)):\n",
    "        event['owner'].add_class('err_validation_color')\n",
    "    else:\n",
    "        event['owner'].remove_class('err_validation_color')\n",
    "\n",
    "\n",
    "t1 = w.Text()\n",
    "t1.observe(\n",
    "    partial(validation, validation_funcs=[\n",
    "        is_empty_str, partial(is_have_text_str, substring='test')]),\n",
    "    'value'\n",
    ")\n",
    "\n",
    "t1"
   ]
  }
 ],
 "metadata": {
  "kernelspec": {
   "display_name": "Python 3.8.12 ('.venv': venv)",
   "language": "python",
   "name": "python3"
  },
  "language_info": {
   "codemirror_mode": {
    "name": "ipython",
    "version": 3
   },
   "file_extension": ".py",
   "mimetype": "text/x-python",
   "name": "python",
   "nbconvert_exporter": "python",
   "pygments_lexer": "ipython3",
   "version": "3.8.12"
  },
  "orig_nbformat": 4,
  "vscode": {
   "interpreter": {
    "hash": "d23911bd2c5cb991f03b3096430e90cdaa76e2b9606d8ed94f8511e6c7845cec"
   }
  }
 },
 "nbformat": 4,
 "nbformat_minor": 2
}
