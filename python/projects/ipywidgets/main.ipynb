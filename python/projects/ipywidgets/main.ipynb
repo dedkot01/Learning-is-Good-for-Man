{
 "cells": [
  {
   "cell_type": "code",
   "execution_count": null,
   "metadata": {
    "tags": []
   },
   "outputs": [],
   "source": [
    "from MyForm import MyForm\n",
    "\n",
    "form = MyForm()\n",
    "\n",
    "form.show()"
   ]
  },
  {
   "cell_type": "code",
   "execution_count": null,
   "metadata": {},
   "outputs": [],
   "source": [
    "form.prgBar.value"
   ]
  },
  {
   "cell_type": "code",
   "execution_count": null,
   "metadata": {},
   "outputs": [],
   "source": [
    "from ipywidgets import GridspecLayout, FloatText, Layout\n",
    "layout = GridspecLayout(n_rows=4, n_columns=2, height='200px')\n",
    "layout[:3, 0] = FloatText(layout=Layout(height='auto', width='10px'))\n",
    "layout[1:, 1] = FloatText(layout=Layout(height='auto', width='100px'))\n",
    "layout[-1, 0] = FloatText(layout=Layout(height='auto', width='100px'))\n",
    "layout[0, 1] = FloatText(layout=Layout(height='auto', width='auto'))\n",
    "layout"
   ]
  },
  {
   "cell_type": "code",
   "execution_count": null,
   "metadata": {},
   "outputs": [],
   "source": [
    "import ipywidgets as widgets\n",
    "from IPython import display\n",
    "\n",
    "o = widgets.Output()\n",
    "\n",
    "t1 = widgets.Text()\n",
    "t2 = widgets.Text()\n",
    "\n",
    "def check(event):\n",
    "    with o:\n",
    "        try:\n",
    "            if event['new'] not in ['']:\n",
    "                float(event['new'])\n",
    "                event['owner'].value = event['new'].strip()\n",
    "        except ValueError:\n",
    "            event['owner'].unobserve(check, names=['value'])\n",
    "            event['owner'].value = event['old']\n",
    "            event['owner'].observe(check, names=['value'])\n",
    "\n",
    "def foc(event):\n",
    "    with o:\n",
    "        print('o')\n",
    "\n",
    "t2.observe(check, names=['value'])\n",
    "t2.observe(foc, names=['value'])\n",
    "\n",
    "box = widgets.VBox([t1, t2, o])\n",
    "\n",
    "box"
   ]
  }
 ],
 "metadata": {
  "kernelspec": {
   "display_name": "Python 3.8.12 ('.venv': venv)",
   "language": "python",
   "name": "python3"
  },
  "language_info": {
   "codemirror_mode": {
    "name": "ipython",
    "version": 3
   },
   "file_extension": ".py",
   "mimetype": "text/x-python",
   "name": "python",
   "nbconvert_exporter": "python",
   "pygments_lexer": "ipython3",
   "version": "3.8.12"
  },
  "orig_nbformat": 4,
  "vscode": {
   "interpreter": {
    "hash": "d23911bd2c5cb991f03b3096430e90cdaa76e2b9606d8ed94f8511e6c7845cec"
   }
  }
 },
 "nbformat": 4,
 "nbformat_minor": 2
}
